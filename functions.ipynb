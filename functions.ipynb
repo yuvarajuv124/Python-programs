{
 "cells": [
  {
   "cell_type": "markdown",
   "metadata": {},
   "source": [
    "### inner function\n"
   ]
  },
  {
   "cell_type": "code",
   "execution_count": 3,
   "metadata": {},
   "outputs": [
    {
     "name": "stdout",
     "output_type": "stream",
     "text": [
      "Function 2\n",
      "Function 1\n"
     ]
    }
   ],
   "source": [
    "def fun1():\n",
    "    def fun2():\n",
    "        print('Function 2')\n",
    "    fun2()\n",
    "    print('Function 1')\n",
    "def fun3():\n",
    "    fun1()\n",
    "fun3()\n"
   ]
  },
  {
   "cell_type": "markdown",
   "metadata": {},
   "source": [
    "### Recursion function"
   ]
  },
  {
   "cell_type": "code",
   "execution_count": 4,
   "metadata": {},
   "outputs": [
    {
     "data": {
      "text/plain": [
       "120"
      ]
     },
     "execution_count": 4,
     "metadata": {},
     "output_type": "execute_result"
    }
   ],
   "source": [
    "def fact(num):\n",
    "    result = 1\n",
    "    if(num==1 or num==0):\n",
    "        return 1\n",
    "    else:\n",
    "        result=num*fact(num-1)\n",
    "        return result\n",
    "fact(5)\n",
    "    \n",
    "        "
   ]
  },
  {
   "cell_type": "markdown",
   "metadata": {},
   "source": [
    "### Anonymous function(Lambda)"
   ]
  },
  {
   "cell_type": "code",
   "execution_count": 6,
   "metadata": {},
   "outputs": [
    {
     "name": "stdout",
     "output_type": "stream",
     "text": [
      "144\n"
     ]
    }
   ],
   "source": [
    "num = lambda a: a*a\n",
    "print(num(12))"
   ]
  },
  {
   "cell_type": "code",
   "execution_count": null,
   "metadata": {},
   "outputs": [
    {
     "name": "stdout",
     "output_type": "stream",
     "text": [
      "even\n"
     ]
    }
   ],
   "source": [
    "result = lambda a:\"even\" if a%2==0 else \"odd\"\n",
    "print(result(10))"
   ]
  },
  {
   "cell_type": "code",
   "execution_count": null,
   "metadata": {},
   "outputs": [
    {
     "name": "stdout",
     "output_type": "stream",
     "text": [
      "Good morning Roy we are glad to have you\n",
      "None\n",
      "Good morning Jhon we are glad to have you\n",
      "None\n"
     ]
    }
   ],
   "source": [
    "def greeting(name, time, approach):\n",
    "    if time>12:\n",
    "       shift = \"morning\"\n",
    "    elif 12<time<18:\n",
    "       shift=\"afternoon\"\n",
    "    else:\n",
    "       shift = \"evening\"\n",
    "    if approach==\"formal\":\n",
    "      print(\"Good\",shift,name,\"we are glad to have you\")\n",
    "    else:\n",
    "     print(\"Hey,\",name,\"Enjoy the party\")\n",
    "guest_names = [\"Roy\",\"Jhon\"]\n",
    "time_given = 18\n",
    "prefernce = \"informal\"\n",
    "for name in guest_names:\n",
    "   print(greeting(name,time_given,prefernce))"
   ]
  }
 ],
 "metadata": {
  "kernelspec": {
   "display_name": "Python 3",
   "language": "python",
   "name": "python3"
  },
  "language_info": {
   "codemirror_mode": {
    "name": "ipython",
    "version": 3
   },
   "file_extension": ".py",
   "mimetype": "text/x-python",
   "name": "python",
   "nbconvert_exporter": "python",
   "pygments_lexer": "ipython3",
   "version": "3.13.2"
  }
 },
 "nbformat": 4,
 "nbformat_minor": 2
}

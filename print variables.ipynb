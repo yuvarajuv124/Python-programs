{
 "cells": [
  {
   "cell_type": "markdown",
   "metadata": {},
   "source": [
    "### 5 ways to print variables"
   ]
  },
  {
   "cell_type": "markdown",
   "metadata": {},
   "source": [
    "### ==> using commas"
   ]
  },
  {
   "cell_type": "code",
   "execution_count": 1,
   "metadata": {},
   "outputs": [
    {
     "name": "stdout",
     "output_type": "stream",
     "text": [
      "Python Telugu soft\n",
      "I am learning Python from Telugu soft youtube channel\n"
     ]
    }
   ],
   "source": [
    "language = 'Python'\n",
    "channel = 'Telugu soft'\n",
    "print(language, channel)\n",
    "print(\"I am learning\",language, \"from\", channel, \"youtube channel\")"
   ]
  },
  {
   "cell_type": "markdown",
   "metadata": {},
   "source": [
    "### ==> using f-string(formatted string)"
   ]
  },
  {
   "cell_type": "code",
   "execution_count": 6,
   "metadata": {},
   "outputs": [
    {
     "name": "stdout",
     "output_type": "stream",
     "text": [
      "I am learning Python from Telugu soft youtube channel\n"
     ]
    }
   ],
   "source": [
    "\n",
    "print(f\"I am learning {language} from {channel} youtube channel\")"
   ]
  },
  {
   "cell_type": "markdown",
   "metadata": {},
   "source": [
    "### ==> using concatenation"
   ]
  },
  {
   "cell_type": "code",
   "execution_count": 5,
   "metadata": {},
   "outputs": [
    {
     "name": "stdout",
     "output_type": "stream",
     "text": [
      "I am learning Python from Telugu soft youtube channel\n"
     ]
    }
   ],
   "source": [
    "print('I am learning ' +language+ \" from \" +channel+ \" youtube channel\")"
   ]
  },
  {
   "cell_type": "markdown",
   "metadata": {},
   "source": [
    "### ==> using format()"
   ]
  },
  {
   "cell_type": "code",
   "execution_count": 10,
   "metadata": {},
   "outputs": [
    {
     "name": "stdout",
     "output_type": "stream",
     "text": [
      "I am learning Python from Telugu soft youtube channel\n",
      "I am learning Python from Telugu soft youtube channel\n",
      "I am learning Python from Telugu soft youtube channel\n"
     ]
    }
   ],
   "source": [
    "print('I am learning {} from {} youtube channel'.format(language, channel))\n",
    "print('I am learning {1} from {0} youtube channel'.format(channel, language))\n",
    "print('I am learning {lang} from {cha} youtube channel'.format(cha = channel, lang = language))"
   ]
  },
  {
   "cell_type": "markdown",
   "metadata": {},
   "source": [
    "### ==> using percentage(%) formatting"
   ]
  },
  {
   "cell_type": "code",
   "execution_count": 12,
   "metadata": {},
   "outputs": [
    {
     "name": "stdout",
     "output_type": "stream",
     "text": [
      "I am learning Python from Telugu soft youtube channel in 2025\n"
     ]
    }
   ],
   "source": [
    "year = 2025\n",
    "print('I am learning %s from %s youtube channel in %d' %(language, channel, year))"
   ]
  }
 ],
 "metadata": {
  "kernelspec": {
   "display_name": "Python 3",
   "language": "python",
   "name": "python3"
  },
  "language_info": {
   "codemirror_mode": {
    "name": "ipython",
    "version": 3
   },
   "file_extension": ".py",
   "mimetype": "text/x-python",
   "name": "python",
   "nbconvert_exporter": "python",
   "pygments_lexer": "ipython3",
   "version": "3.13.2"
  }
 },
 "nbformat": 4,
 "nbformat_minor": 2
}
